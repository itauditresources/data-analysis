{
 "cells": [
  {
   "cell_type": "markdown",
   "metadata": {},
   "source": [
    "# Data Type Casting Notebook"
   ]
  },
  {
   "cell_type": "code",
   "execution_count": 1,
   "metadata": {},
   "outputs": [],
   "source": [
    "import os\n",
    "\n",
    "import pandas as pd\n",
    "import numpy as np"
   ]
  },
  {
   "cell_type": "code",
   "execution_count": 1,
   "metadata": {},
   "outputs": [
    {
     "ename": "NameError",
     "evalue": "name 'os' is not defined",
     "output_type": "error",
     "traceback": [
      "\u001b[1;31m---------------------------------------------------------------------------\u001b[0m",
      "\u001b[1;31mNameError\u001b[0m                                 Traceback (most recent call last)",
      "Cell \u001b[1;32mIn [1], line 3\u001b[0m\n\u001b[0;32m      1\u001b[0m \u001b[38;5;66;03m# Global variables\u001b[39;00m\n\u001b[1;32m----> 3\u001b[0m cwd \u001b[38;5;241m=\u001b[39m os\u001b[38;5;241m.\u001b[39mgetcwd()\n\u001b[0;32m      5\u001b[0m \u001b[38;5;66;03m# Set the right parameters\u001b[39;00m\n\u001b[0;32m      6\u001b[0m file_name \u001b[38;5;241m=\u001b[39m \u001b[38;5;124m'\u001b[39m\u001b[38;5;124misl_gl.csv\u001b[39m\u001b[38;5;124m'\u001b[39m\n",
      "\u001b[1;31mNameError\u001b[0m: name 'os' is not defined"
     ]
    }
   ],
   "source": [
    "# Global variables\n",
    "\n",
    "cwd = os.getcwd()\n",
    "\n",
    "# Set the right parameters\n",
    "file_name = 'isl_gl.csv'\n",
    "decimal = '.'\n",
    "delimiter = ';'\n",
    "\n",
    "# If you get the following error message while importing the csv file\n",
    "# `utf-8 cannot decode hex`\n",
    "# use the encoding below\n",
    "\n",
    "encoding = 'latin-1'\n",
    "\n",
    "# Define new variable names for all variables in the data set\n",
    "# "
   ]
  },
  {
   "cell_type": "code",
   "execution_count": 3,
   "metadata": {},
   "outputs": [],
   "source": [
    "df = pd.read_csv(filepath_or_buffer=f'{cwd}\\data\\{file_name}', delimiter=delimiter, decimal=decimal, encoding=encoding)"
   ]
  },
  {
   "cell_type": "markdown",
   "metadata": {},
   "source": [
    "## Data Understanding"
   ]
  },
  {
   "cell_type": "code",
   "execution_count": 4,
   "metadata": {},
   "outputs": [
    {
     "name": "stdout",
     "output_type": "stream",
     "text": [
      "<class 'pandas.core.frame.DataFrame'>\n",
      "RangeIndex: 48118 entries, 0 to 48117\n",
      "Data columns (total 61 columns):\n",
      " #   Column                     Non-Null Count  Dtype  \n",
      "---  ------                     --------------  -----  \n",
      " 0                              48118 non-null  int64  \n",
      " 1   Journal                    48118 non-null  object \n",
      " 2   Number                     48118 non-null  int64  \n",
      " 3   Type                       29483 non-null  object \n",
      " 4   Financial year/period      48118 non-null  object \n",
      " 5   Date                       48118 non-null  object \n",
      " 6   Due date                   21926 non-null  object \n",
      " 7   Estimated date             14802 non-null  object \n",
      " 8   Loc Currency               48118 non-null  object \n",
      " 9   Invoice Currency           48118 non-null  object \n",
      " 10  Debit (local currency)     27651 non-null  object \n",
      " 11  Credit (local currency)    20467 non-null  object \n",
      " 12  Debit - Invoice Currency   48118 non-null  object \n",
      " 13  Credit - Invoice Currency  48118 non-null  object \n",
      " 14  Lettering                  20964 non-null  object \n",
      " 15  Lettering status           48118 non-null  int64  \n",
      " 16  Journal type               48118 non-null  object \n",
      " 17  Approval code              44124 non-null  float64\n",
      " 18  Header description         19067 non-null  object \n",
      " 19  External reference         23802 non-null  object \n",
      " 20  VCS                        0 non-null      float64\n",
      " 21  Company                    41147 non-null  float64\n",
      " 22  Company.1                  41147 non-null  object \n",
      " 23  General account            48118 non-null  int64  \n",
      " 24  Analytics Sht.             19975 non-null  object \n",
      " 25  Analytics                  19975 non-null  float64\n",
      " 26  School year Sht.           23652 non-null  object \n",
      " 27  Projet Sht.                0 non-null      float64\n",
      " 28  Person Sht.                4201 non-null   object \n",
      " 29  Fixed asset number         132 non-null    float64\n",
      " 30  Fixed asset                132 non-null    object \n",
      " 31  Description                47423 non-null  object \n",
      " 32  Exchange rate              48118 non-null  float64\n",
      " 33  Quantity                   48118 non-null  float64\n",
      " 34  Phasing period             0 non-null      float64\n",
      " 35  Dispute code               0 non-null      float64\n",
      " 36  Reminder level             23508 non-null  float64\n",
      " 37  Contract                   0 non-null      float64\n",
      " 38  Comment                    4078 non-null   object \n",
      " 39  Amount (local cur.)        48118 non-null  object \n",
      " 40  Int. Ref.                  32454 non-null  object \n",
      " 41  Additional area 1          0 non-null      float64\n",
      " 42  Additional area 1 Sht.     0 non-null      float64\n",
      " 43  Additional area 4          0 non-null      float64\n",
      " 44  Additional area 4 Sht.     0 non-null      float64\n",
      " 45  Additional area 2          0 non-null      float64\n",
      " 46  Additional area 2 Sht.     0 non-null      float64\n",
      " 47  Reconciliation reference   0 non-null      float64\n",
      " 48  Additional area 3          0 non-null      float64\n",
      " 49  Imputation code            8769 non-null   object \n",
      " 50  Loan number                48118 non-null  int64  \n",
      " 51  Additional area 3 Sht.     0 non-null      float64\n",
      " 52  Company profile Customer   16314 non-null  object \n",
      " 53  Creation User              48118 non-null  object \n",
      " 54  Creation Date              48118 non-null  object \n",
      " 55  Update User                48118 non-null  object \n",
      " 56  Update Date                48118 non-null  object \n",
      " 57  Profile Supplier           24833 non-null  object \n",
      " 58  Approval Name              6891 non-null   object \n",
      " 59  Approval Date              6891 non-null   object \n",
      " 60  Approval Time              6891 non-null   object \n",
      "dtypes: float64(21), int64(5), object(35)\n",
      "memory usage: 22.4+ MB\n"
     ]
    }
   ],
   "source": [
    "df.info()"
   ]
  },
  {
   "cell_type": "markdown",
   "metadata": {},
   "source": [
    "!Note! \n",
    "\n",
    "1. Every variable that has a data type of object needs casting\n",
    "\n",
    "2. Check if any other variable doesn't have your desired data type\n",
    "\n",
    "3. Check the format of integers and floating point numbers \n"
   ]
  },
  {
   "cell_type": "code",
   "execution_count": 5,
   "metadata": {},
   "outputs": [],
   "source": [
    "def data_type_casting(df, variables = [], dtypes = []) -> pd.DataFrame:\n",
    "    \"\"\"\n",
    "    Function to cast the data type of given variables\n",
    "    In compliance with the new pandas version which deprecates inplace changes\n",
    "    \"\"\"\n",
    "\n",
    "    if len(variables) != len(dtypes):\n",
    "        print('There is a 1 to 1 relationship')\n",
    "\n",
    "    if len(variables) != 0:\n",
    "\n",
    "        df_tmp = df.copy()"
   ]
  },
  {
   "cell_type": "code",
   "execution_count": 35,
   "metadata": {},
   "outputs": [
    {
     "data": {
      "text/plain": [
       "'01/01/2017'"
      ]
     },
     "execution_count": 35,
     "metadata": {},
     "output_type": "execute_result"
    }
   ],
   "source": [
    "df_t = df.copy()\n",
    "\n",
    "df_t[\"Financial year/period\"] = \"01/\" + df_t[\"Financial year/period\"].apply(lambda x: x[5:8]) + \"/\" + df_t[\"Financial year/period\"].apply(lambda x: x[0:4]) \n",
    "\n",
    "df_t[\"Financial year/period\"][191]"
   ]
  },
  {
   "cell_type": "code",
   "execution_count": 36,
   "metadata": {},
   "outputs": [],
   "source": [
    "df_t.to_csv(f'{file_name}_type_casting.csv', sep=\";\")"
   ]
  },
  {
   "cell_type": "code",
   "execution_count": null,
   "metadata": {},
   "outputs": [],
   "source": []
  }
 ],
 "metadata": {
  "kernelspec": {
   "display_name": "Python 3 (ipykernel)",
   "language": "python",
   "name": "python3"
  },
  "language_info": {
   "codemirror_mode": {
    "name": "ipython",
    "version": 3
   },
   "file_extension": ".py",
   "mimetype": "text/x-python",
   "name": "python",
   "nbconvert_exporter": "python",
   "pygments_lexer": "ipython3",
   "version": "3.10.7"
  },
  "vscode": {
   "interpreter": {
    "hash": "017340c9c578f780ec005b4efbcdb68e5194edbc82cb050b381587138f1f81dc"
   }
  }
 },
 "nbformat": 4,
 "nbformat_minor": 4
}

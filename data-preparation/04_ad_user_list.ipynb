{
 "cells": [
  {
   "cell_type": "markdown",
   "metadata": {},
   "source": [
    "# Active Directory User List"
   ]
  },
  {
   "cell_type": "code",
   "execution_count": 2,
   "metadata": {},
   "outputs": [],
   "source": [
    "import os\n",
    "\n",
    "import pandas as pd"
   ]
  },
  {
   "cell_type": "code",
   "execution_count": 3,
   "metadata": {},
   "outputs": [],
   "source": [
    "# Global variables\n",
    "\n",
    "cwd = os.getcwd()\n",
    "\n",
    "# Set the right parameters\n",
    "file_name = 'ad_export_all.csv'\n",
    "decimal = '.'\n",
    "delimiter = ','\n",
    "\n",
    "# If you get the following error message while importing the csv file\n",
    "# `utf-8 cannot decode hex`\n",
    "# use the encoding below\n",
    "\n",
    "encoding = 'latin-1'"
   ]
  },
  {
   "cell_type": "code",
   "execution_count": 22,
   "metadata": {},
   "outputs": [
    {
     "name": "stderr",
     "output_type": "stream",
     "text": [
      "Skipping line 21: expected 18 fields, saw 19\n",
      "Skipping line 22: expected 18 fields, saw 19\n",
      "Skipping line 24: expected 18 fields, saw 19\n",
      "Skipping line 25: expected 18 fields, saw 19\n",
      "Skipping line 30: expected 18 fields, saw 19\n",
      "Skipping line 137: expected 18 fields, saw 19\n",
      "Skipping line 900: expected 18 fields, saw 19\n",
      "Skipping line 3993: expected 18 fields, saw 19\n",
      "Skipping line 4596: expected 18 fields, saw 19\n",
      "Skipping line 4733: expected 18 fields, saw 19\n",
      "\n"
     ]
    }
   ],
   "source": [
    "df = pd.read_csv(filepath_or_buffer=f'{cwd}\\data\\{file_name}', delimiter=delimiter, on_bad_lines='warn')"
   ]
  },
  {
   "cell_type": "code",
   "execution_count": 11,
   "metadata": {},
   "outputs": [
    {
     "name": "stdout",
     "output_type": "stream",
     "text": [
      "<class 'pandas.core.frame.DataFrame'>\n",
      "RangeIndex: 5280 entries, 0 to 5279\n",
      "Data columns (total 18 columns):\n",
      " #   Column                 Non-Null Count  Dtype  \n",
      "---  ------                 --------------  -----  \n",
      " 0   displayname            5267 non-null   object \n",
      " 1   city                   228 non-null    object \n",
      " 2   company                14 non-null     object \n",
      " 3   department             2847 non-null   object \n",
      " 4   EmailAddress           4762 non-null   object \n",
      " 5   telephonenumber        337 non-null    float64\n",
      " 6   AccountExpirationDate  1588 non-null   object \n",
      " 7   accountExpires         5280 non-null   int64  \n",
      " 8   AccountLockoutTime     2 non-null      object \n",
      " 9   Enabled                5280 non-null   bool   \n",
      " 10  LastLogonDate          3967 non-null   object \n",
      " 11  lastLogonTimestamp     3967 non-null   float64\n",
      " 12  LockedOut              5280 non-null   bool   \n",
      " 13  lockoutTime            652 non-null    float64\n",
      " 14  PasswordExpired        5280 non-null   bool   \n",
      " 15  PasswordLastSet        4565 non-null   object \n",
      " 16  SamAccountName         5280 non-null   object \n",
      " 17  MemberOf               5280 non-null   object \n",
      "dtypes: bool(3), float64(3), int64(1), object(11)\n",
      "memory usage: 634.3+ KB\n"
     ]
    }
   ],
   "source": [
    "df.info()"
   ]
  },
  {
   "cell_type": "code",
   "execution_count": 15,
   "metadata": {},
   "outputs": [],
   "source": [
    "def cast_data_types(df: pd.DataFrame) -> pd.DataFrame:\n",
    "\n",
    "    df_copy = df.copy()\n",
    "\n",
    "    # cast strings\n",
    "    df_copy['displayname'] = df_copy['displayname'].astype('string')\n",
    "    df_copy['city'] = df_copy['city'].astype('string')\n",
    "    df_copy['company'] = df_copy['company'].astype('string')\n",
    "    df_copy['department'] = df_copy['department'].astype('string')\n",
    "    df_copy['EmailAddress'] = df_copy['EmailAddress'].astype('string')\n",
    "    df_copy['SamAccountName'] = df_copy['SamAccountName'].astype('string')\n",
    "    df_copy['MemberOf'] = df_copy['MemberOf'].astype('string')\n",
    "\n",
    "\n",
    "    # cast dates\n",
    "    df_copy['AccountExpirationDate'] = df_copy['AccountExpirationDate'].astype('datetime64[ns]')\n",
    "    df_copy['AccountLockoutTime'] = df_copy['AccountLockoutTime'].astype('datetime64[ns]')\n",
    "    df_copy['LastLogonDate'] = df_copy['LastLogonDate'].astype('datetime64[ns]')\n",
    "    df_copy['PasswordLastSet'] = df_copy['PasswordLastSet'].astype('datetime64[ns]')\n",
    "\n",
    "\n",
    "\n",
    "    return df_copy "
   ]
  },
  {
   "cell_type": "code",
   "execution_count": 16,
   "metadata": {},
   "outputs": [
    {
     "name": "stdout",
     "output_type": "stream",
     "text": [
      "<class 'pandas.core.frame.DataFrame'>\n",
      "RangeIndex: 5280 entries, 0 to 5279\n",
      "Data columns (total 18 columns):\n",
      " #   Column                 Non-Null Count  Dtype         \n",
      "---  ------                 --------------  -----         \n",
      " 0   displayname            5267 non-null   string        \n",
      " 1   city                   228 non-null    string        \n",
      " 2   company                14 non-null     string        \n",
      " 3   department             2847 non-null   string        \n",
      " 4   EmailAddress           4762 non-null   string        \n",
      " 5   telephonenumber        337 non-null    float64       \n",
      " 6   AccountExpirationDate  1588 non-null   datetime64[ns]\n",
      " 7   accountExpires         5280 non-null   int64         \n",
      " 8   AccountLockoutTime     2 non-null      datetime64[ns]\n",
      " 9   Enabled                5280 non-null   bool          \n",
      " 10  LastLogonDate          3967 non-null   datetime64[ns]\n",
      " 11  lastLogonTimestamp     3967 non-null   float64       \n",
      " 12  LockedOut              5280 non-null   bool          \n",
      " 13  lockoutTime            652 non-null    float64       \n",
      " 14  PasswordExpired        5280 non-null   bool          \n",
      " 15  PasswordLastSet        4565 non-null   datetime64[ns]\n",
      " 16  SamAccountName         5280 non-null   string        \n",
      " 17  MemberOf               5280 non-null   string        \n",
      "dtypes: bool(3), datetime64[ns](4), float64(3), int64(1), string(7)\n",
      "memory usage: 634.3 KB\n"
     ]
    }
   ],
   "source": [
    "df_casted = cast_data_types(df)\n",
    "df_casted.info()"
   ]
  },
  {
   "cell_type": "code",
   "execution_count": 20,
   "metadata": {},
   "outputs": [],
   "source": [
    "df_casted.to_csv(f'{cwd}\\output\\{file_name}', sep=';')"
   ]
  }
 ],
 "metadata": {
  "kernelspec": {
   "display_name": "Python 3.10.7 ('venv': venv)",
   "language": "python",
   "name": "python3"
  },
  "language_info": {
   "codemirror_mode": {
    "name": "ipython",
    "version": 3
   },
   "file_extension": ".py",
   "mimetype": "text/x-python",
   "name": "python",
   "nbconvert_exporter": "python",
   "pygments_lexer": "ipython3",
   "version": "3.10.7"
  },
  "orig_nbformat": 4,
  "vscode": {
   "interpreter": {
    "hash": "017340c9c578f780ec005b4efbcdb68e5194edbc82cb050b381587138f1f81dc"
   }
  }
 },
 "nbformat": 4,
 "nbformat_minor": 2
}
